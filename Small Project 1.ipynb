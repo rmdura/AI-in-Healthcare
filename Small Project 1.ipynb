{
 "cells": [
  {
   "cell_type": "markdown",
   "id": "dc899eff",
   "metadata": {},
   "source": [
    "### Import necessary packages"
   ]
  },
  {
   "cell_type": "code",
   "execution_count": 3,
   "id": "2beb9464",
   "metadata": {},
   "outputs": [],
   "source": [
    "import sklearn as skl\n",
    "from sklearn import metrics"
   ]
  },
  {
   "cell_type": "markdown",
   "id": "3994bc70",
   "metadata": {},
   "source": [
    "### Create training and test data"
   ]
  },
  {
   "cell_type": "code",
   "execution_count": 4,
   "id": "b21dbd7c",
   "metadata": {},
   "outputs": [],
   "source": [
    "# 0 equals no or negative, 1 equals yes or positive\n",
    "gold_standard = [1,0,0,0,1,0,0,1,0,1]\n",
    "test_A = [1,0,0,1,1,0,1,1,0,1]\n",
    "test_B = [1,0,0,0,0,0,1,0,1,1]"
   ]
  },
  {
   "cell_type": "markdown",
   "id": "25bd0e92",
   "metadata": {},
   "source": [
    "### Create confusion matrix"
   ]
  },
  {
   "cell_type": "code",
   "execution_count": 20,
   "id": "04b92c4e",
   "metadata": {},
   "outputs": [],
   "source": [
    "conf_matrix_A = metrics.confusion_matrix(gold_standard, test_A)\n",
    "conf_matrix_B = metrics.confusion_matrix(gold_standard, test_B)"
   ]
  },
  {
   "cell_type": "markdown",
   "id": "3ca2708b",
   "metadata": {},
   "source": [
    "### Calculate metrics"
   ]
  },
  {
   "cell_type": "code",
   "execution_count": 7,
   "id": "866e5fad",
   "metadata": {},
   "outputs": [],
   "source": [
    "true_pos_A = conf_matrix_A[1][1]\n",
    "true_pos_B = conf_matrix_B[1][1]\n",
    "true_neg_A = conf_matrix_A[0][0]\n",
    "true_neg_B = conf_matrix_B[0][0]\n",
    "false_pos_A = conf_matrix_A[0][1]\n",
    "false_pos_B = conf_matrix_B[0][1]\n",
    "false_neg_A = conf_matrix_A[1][0]\n",
    "false_neg_B = conf_matrix_B[1][0]"
   ]
  },
  {
   "cell_type": "code",
   "execution_count": 22,
   "id": "7fa8fb03",
   "metadata": {},
   "outputs": [
    {
     "name": "stdout",
     "output_type": "stream",
     "text": [
      "Accuracy of A is: 80.0 %\n",
      "Accuracy of B is: 60.0 %\n",
      "Sensitivity of A is: 100.0 %\n",
      "Sensitivity of B is: 50.0 %\n",
      "Specificity of A is: 66.66666666666666 %\n",
      "Specificity of B is: 66.66666666666666 %\n",
      "Positive predictive value of A is: 66.66666666666666 %\n",
      "Positive predictive value of B is: 50.0 %\n",
      "Negative predictive value of A is: 100.0 %\n",
      "Negative predictive value of B is: 66.66666666666666 %\n"
     ]
    }
   ],
   "source": [
    "accuracy_A = (true_pos_A + true_neg_A)/(true_pos_A + true_neg_A + false_pos_A + false_neg_A)*100\n",
    "print(\"Accuracy of A is:\", accuracy_A,\"%\")\n",
    "accuracy_B = (true_pos_B + true_neg_B)/(true_pos_B + true_neg_B + false_pos_B + false_neg_B)*100\n",
    "print(\"Accuracy of B is:\", accuracy_B,\"%\")\n",
    "\n",
    "sensitivity_A = (true_pos_A)/(true_pos_A + false_neg_A)*100\n",
    "print(\"Sensitivity of A is:\", sensitivity_A,\"%\")\n",
    "sensitivity_B = (true_pos_B)/(true_pos_B + false_neg_B)*100\n",
    "print(\"Sensitivity of B is:\", sensitivity_B,\"%\")\n",
    "\n",
    "specificity_A = (true_neg_A)/(true_neg_A + false_pos_A)*100\n",
    "print(\"Specificity of A is:\", specificity_A,\"%\")\n",
    "specificity_B = (true_neg_B)/(true_neg_B + false_pos_B)*100\n",
    "print(\"Specificity of B is:\", specificity_B,\"%\")\n",
    "\n",
    "pos_pred_val_A = (true_pos_A)/(true_pos_A + false_pos_A)*100\n",
    "print(\"Positive predictive value of A is:\", pos_pred_val_A,\"%\")\n",
    "pos_pred_val_B = (true_pos_B)/(true_pos_B + false_pos_B)*100\n",
    "print(\"Positive predictive value of B is:\", pos_pred_val_B,\"%\")\n",
    "\n",
    "neg_pred_val_A = (true_neg_A)/(true_neg_A + false_neg_A)*100\n",
    "print(\"Negative predictive value of A is:\", neg_pred_val_A,\"%\")\n",
    "neg_pred_val_B = (true_neg_B)/(true_neg_B + false_neg_B)*100\n",
    "print(\"Negative predictive value of B is:\", neg_pred_val_B,\"%\")\n",
    "\n",
    "#Test A has the best accuracy.\n",
    "#Test A has the best sensitivity.\n",
    "#Test A and B have the same specificity.\n"
   ]
  }
 ],
 "metadata": {
  "kernelspec": {
   "display_name": "Python 3 (ipykernel)",
   "language": "python",
   "name": "python3"
  },
  "language_info": {
   "codemirror_mode": {
    "name": "ipython",
    "version": 3
   },
   "file_extension": ".py",
   "mimetype": "text/x-python",
   "name": "python",
   "nbconvert_exporter": "python",
   "pygments_lexer": "ipython3",
   "version": "3.9.7"
  }
 },
 "nbformat": 4,
 "nbformat_minor": 5
}
